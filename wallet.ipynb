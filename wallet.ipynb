{
  "nbformat": 4,
  "nbformat_minor": 0,
  "metadata": {
    "colab": {
      "provenance": []
    },
    "kernelspec": {
      "name": "python3",
      "display_name": "Python 3"
    },
    "language_info": {
      "name": "python"
    }
  },
  "cells": [
    {
      "cell_type": "code",
      "execution_count": 46,
      "metadata": {
        "id": "EThv5XIxDx0B"
      },
      "outputs": [],
      "source": [
        "import requests\n",
        "import pandas as pd\n",
        "from tqdm import tqdm"
      ]
    },
    {
      "cell_type": "code",
      "source": [
        "API_KEY = \"cqt_rQc6GJR9fXwtT8gd9QwBdpjfWTRR\"\n",
        "CHAIN_ID = \"1\"  # Ethereum mainnet\n",
        "BASE_URL = \"https://api.covalenthq.com/v1\""
      ],
      "metadata": {
        "id": "9yMybWGlD2zv"
      },
      "execution_count": 47,
      "outputs": []
    },
    {
      "cell_type": "code",
      "source": [
        "def calculate_risk_score(tx_data):\n",
        "    tx_count = len(tx_data)\n",
        "    total_value = sum(tx['value'] for tx in tx_data)\n",
        "    unique_tokens = len(set(tx['contract_address'] for tx in tx_data))\n",
        "\n",
        "    # Simple scoring logic\n",
        "    score = (\n",
        "        (min(tx_count, 1000) / 1000) * 400 +\n",
        "        (min(total_value, 1e20) / 1e20) * 400 +\n",
        "        (min(unique_tokens, 10) / 10) * 200\n",
        "    )\n",
        "    return round(score)\n"
      ],
      "metadata": {
        "id": "yQjvtYtNGZHV"
      },
      "execution_count": 48,
      "outputs": []
    },
    {
      "cell_type": "code",
      "source": [
        "# Load the CSV file you uploaded\n",
        "df = pd.read_csv('wallets.csv')\n",
        "print(df.head())\n",
        "wallets = df['wallet_id'].tolist()\n"
      ],
      "metadata": {
        "colab": {
          "base_uri": "https://localhost:8080/"
        },
        "id": "VKdf1BMIHoAF",
        "outputId": "8502788c-170d-4c73-e988-f01c782919e8"
      },
      "execution_count": 49,
      "outputs": [
        {
          "output_type": "stream",
          "name": "stdout",
          "text": [
            "                                    wallet_id\n",
            "0  0x0039f22efb07a647557c7c5d17854cfd6d489ef3\n",
            "1  0x06b51c6882b27cb05e712185531c1f74996dd988\n",
            "2  0x0795732aacc448030ef374374eaae57d2965c16c\n",
            "3  0x0aaa79f1a86bc8136cd0d1ca0d51964f4e3766f9\n",
            "4  0x0fe383e5abc200055a7f391f94a5f5d1f844b9ae\n"
          ]
        }
      ]
    },
    {
      "cell_type": "code",
      "source": [
        "results = []\n",
        "\n",
        "for wallet, txns in wallet_txn_map.items():\n",
        "    try:\n",
        "        # logic based on transaction history\n",
        "        if txns == 0:\n",
        "            score = random.randint(100, 200)  # high risk: inactive\n",
        "        elif txns <= 3:\n",
        "            score = random.randint(300, 500)  # low behavior info = uncertain\n",
        "        elif txns <= 10:\n",
        "            score = random.randint(500, 700)  # some activity = okay-ish\n",
        "        elif txns <= 20:\n",
        "            score = random.randint(700, 850)  # good usage\n",
        "        elif txns > 20:\n",
        "            score = random.randint(850, 1000)  # very active = safe\n",
        "\n",
        "        results.append({\"wallet_id\": wallet, \"score\": score})\n",
        "\n",
        "    except Exception as e:\n",
        "        print(f\"Error scoring wallet {wallet}: {e}\")\n",
        "        results.append({\"wallet_id\": wallet, \"score\": 200})  # fallback\n"
      ],
      "metadata": {
        "id": "xsEAHPPuGiGX"
      },
      "execution_count": 50,
      "outputs": []
    },
    {
      "cell_type": "code",
      "source": [
        "scores_df = pd.DataFrame(results)\n",
        "scores_df.to_csv(\"wallet_risk_scores.csv\", index=False)\n",
        "print(\"✅ Saved results to wallet_scores.csv\")"
      ],
      "metadata": {
        "colab": {
          "base_uri": "https://localhost:8080/"
        },
        "id": "ARHfZIBCGtId",
        "outputId": "c5b47c0f-687b-48b8-cb3b-93bb7843451b"
      },
      "execution_count": 51,
      "outputs": [
        {
          "output_type": "stream",
          "name": "stdout",
          "text": [
            "✅ Saved results to wallet_scores.csv\n"
          ]
        }
      ]
    },
    {
      "cell_type": "code",
      "source": [
        "import matplotlib.pyplot as plt\n",
        "\n",
        "plt.hist(scores_df['score'], bins=10, edgecolor='black')\n",
        "plt.title(\"Wallet Risk Score Distribution\")\n",
        "plt.xlabel(\"Score Ranges\")\n",
        "plt.ylabel(\"Number of Wallets\")\n",
        "plt.grid(True)\n",
        "plt.show()\n"
      ],
      "metadata": {
        "colab": {
          "base_uri": "https://localhost:8080/",
          "height": 472
        },
        "id": "b8i8puYMH12u",
        "outputId": "e0b68d78-d798-4d0e-d3b6-ef3ba6292913"
      },
      "execution_count": 52,
      "outputs": [
        {
          "output_type": "display_data",
          "data": {
            "text/plain": [
              "<Figure size 640x480 with 1 Axes>"
            ],
            "image/png": "[encoded data removed]"
          },
          "metadata": {}
        }
      ]
    },
    {
      "cell_type": "code",
      "source": [],
      "metadata": {
        "id": "YVtBTTM3JJ3f"
      },
      "execution_count": 52,
      "outputs": []
    }
  ]
}